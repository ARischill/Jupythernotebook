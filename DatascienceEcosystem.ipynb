{
 "cells": [
  {
   "cell_type": "markdown",
   "id": "f866e80e-782a-42d0-96ff-15ce014736b0",
   "metadata": {
    "tags": []
   },
   "source": [
    "# Data Science Tools And Ecosystems"
   ]
  },
  {
   "cell_type": "markdown",
   "id": "06ae2979-d267-4d5c-87b9-1d974aa19591",
   "metadata": {
    "tags": []
   },
   "source": [
    "In this notebook, Data science tools and ecosystems are summarized."
   ]
  },
  {
   "cell_type": "markdown",
   "id": "a7e1c5c7-4916-4e9f-a6c4-f70294ae56b8",
   "metadata": {},
   "source": [
    "Some of the popular languages that Data Scientists use are:\n",
    "\n",
    "1. Python\n",
    "2. SQL\n",
    "3. JavaScript\n",
    "4. C/C++"
   ]
  },
  {
   "cell_type": "markdown",
   "id": "299aa8c3-c26a-4927-a472-424265af95c7",
   "metadata": {
    "tags": []
   },
   "source": [
    "Some of the commonly used libraries used by Data Scientists are:"
   ]
  },
  {
   "cell_type": "markdown",
   "id": "a87c4622-278a-408d-ada9-b9f40608d5dd",
   "metadata": {},
   "source": [
    " 1. Matplotlib\n",
    " 2. Seaborn\n",
    " 3. TensorFlow."
   ]
  },
  {
   "cell_type": "markdown",
   "id": "3798d816-e33e-4fa1-8f83-f49ffb914e1c",
   "metadata": {},
   "source": [
    "| Data Science Tools        |\n",
    "|---------------------------|\n",
    "| Jupyter Notebook          |\n",
    "| RStudio                   |\n",
    "| Apache Zeppelin           |\n"
   ]
  },
  {
   "cell_type": "markdown",
   "id": "77f66b10-1c96-4356-961f-6f7422ae28fd",
   "metadata": {},
   "source": [
    "### Below are a few examples of evaluating arithmetic expressions in Python."
   ]
  },
  {
   "cell_type": "code",
   "execution_count": 8,
   "id": "ca5c0538-08f4-4fd4-b128-5afb869fb4f1",
   "metadata": {},
   "outputs": [
    {
     "name": "stdout",
     "output_type": "stream",
     "text": [
      "17\n"
     ]
    }
   ],
   "source": [
    " # This a simple arithmetic expression to multiply then add integers. \n",
    " x=(3*4)+5\n",
    " print(x)"
   ]
  },
  {
   "cell_type": "code",
   "execution_count": 7,
   "id": "a2faafb1-0fae-4407-ad3d-9158e362a9f2",
   "metadata": {},
   "outputs": [
    {
     "name": "stdout",
     "output_type": "stream",
     "text": [
      "3.3333333333333335\n"
     ]
    }
   ],
   "source": [
    " # This will convert 200 minutes to hours by diving by 60\n",
    " hours = 200 / 60\n",
    " print(hours)"
   ]
  },
  {
   "cell_type": "markdown",
   "id": "2f6a167b-a730-4b4e-9766-594f2ec1c825",
   "metadata": {},
   "source": [
    "##### Objectives:"
   ]
  },
  {
   "cell_type": "markdown",
   "id": "5aed9868-e028-4d12-b6cf-3849b94e2114",
   "metadata": {},
   "source": [
    "* Arithmetic expressions using Python\n",
    "* Data Science tools\n",
    "* Popular libraries\n",
    "* Popular languages used in data science"
   ]
  },
  {
   "cell_type": "markdown",
   "id": "3d8f565f-743b-41e0-a50e-d44ee5857144",
   "metadata": {},
   "source": [
    "## Authors"
   ]
  },
  {
   "cell_type": "markdown",
   "id": "c0e06690-8565-440f-aca7-37c4550d6d4c",
   "metadata": {},
   "source": [
    "Adrian Raghunanan"
   ]
  },
  {
   "cell_type": "code",
   "execution_count": null,
   "id": "ed9ff597-f3dc-41a6-8dd4-ef1d5f1e1b76",
   "metadata": {},
   "outputs": [],
   "source": []
  }
 ],
 "metadata": {
  "kernelspec": {
   "display_name": "Python 3 (ipykernel)",
   "language": "python",
   "name": "python3"
  },
  "language_info": {
   "codemirror_mode": {
    "name": "ipython",
    "version": 3
   },
   "file_extension": ".py",
   "mimetype": "text/x-python",
   "name": "python",
   "nbconvert_exporter": "python",
   "pygments_lexer": "ipython3",
   "version": "3.11.9"
  }
 },
 "nbformat": 4,
 "nbformat_minor": 5
}
